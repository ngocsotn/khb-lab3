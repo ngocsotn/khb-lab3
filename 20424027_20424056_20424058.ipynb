{
 "cells": [
  {
   "cell_type": "markdown",
   "metadata": {},
   "source": [
    "# KHOA HỌC WEB - PROJECT 3"
   ]
  },
  {
   "cell_type": "markdown",
   "metadata": {},
   "source": [
    "### PHÂN TÍCH DỮ LIỆU WEB\n",
    "#### Nội dung: Áp dụng một vài mô hình máy học để phân tích dữ liệu thu thập từ project 1 và đã xử lý ở project 2"
   ]
  },
  {
   "cell_type": "markdown",
   "metadata": {},
   "source": [
    "#### *Thành viên nhóm*\n",
    "- 20424027 - Phạm Thị Minh Hậu\n",
    "- 20424056 - Nguyễn Thế Ngọc\n",
    "- 20424058 - Nguyễn Văn Nhật"
   ]
  },
  {
   "cell_type": "markdown",
   "metadata": {},
   "source": [
    "#### *Data nhóm dùng trong procject này sẽ từ data Project 2 đã qua xử lý*"
   ]
  },
  {
   "cell_type": "code",
   "execution_count": 187,
   "metadata": {},
   "outputs": [],
   "source": [
    "# import các thư viện cần dùng\n",
    "import matplotlib.pyplot as plt\n",
    "import numpy as np\n",
    "from sklearn import datasets, linear_model\n",
    "from sklearn.metrics import mean_squared_error, r2_score\n",
    "from sklearn.model_selection import train_test_split\n",
    "from sklearn.neighbors import KNeighborsClassifier\n",
    "import json"
   ]
  },
  {
   "cell_type": "code",
   "execution_count": 76,
   "metadata": {},
   "outputs": [],
   "source": [
    "# Các hàm hỗ trợ\n",
    "def read_json(filename):\n",
    "    with open(filename, 'r', encoding='utf-8') as file:\n",
    "        file_data = json.load(file)\n",
    "        return file_data"
   ]
  },
  {
   "cell_type": "markdown",
   "metadata": {},
   "source": [
    "### Những điều nhóm rút ra từ project 2 với data của nhóm và đặt vấn đề\n",
    "- 1/ % giảm giá và số bán được từ project 2 có tương quan nghịch, nhóm muốn dự đoán 1 sản phẩm giảm X % thì bán được tốt không\n",
    "- 2/ % giảm giá và điểm đánh giá sản phẩm từ project 2 có tương quan thuận, nhóm muốn dự đoán rằng giảm X% thì liệu đánh giá có tốt (bỏ qua các môi trường ngoài lề như ship...)\n",
    "- 3/ Điểm đánh giá và số bán được có tương quan thuận, nhóm muốn dự đoán rằng với số điểm đánh giá X thì số bán có cao theo hay không\n",
    "- 4/ Dựa vào đánh giá và số lượng bán được, dự đoán xem đó có phải shop mall hay không\n",
    "- 5/ Ngoài ra, nhóm sẽ cố dự đoán thử sản phẩm đó thuộc tiki hay shopee, dựa vào điểm đánh giá và số bán được, để đánh giá xem nền tảng nào bán có chất lượng trung bình ổn hơn.\n",
    "\n",
    "### Hướng giải quyết nhóm đề ra, áp dụng mô hình máy học gì?\n",
    "- 1/ Nhóm sử dụng Mô hình tuyến tính (Linear Regression) để giải quyết bài toán này.\n",
    "- 2/ Nhóm sử dụng Mô hình tuyến tính (Linear Regression) để giải quyết bài toán này.\n",
    "- 3/ Nhóm sử dụng Mô hình tuyến tính để giải quyết bài toán này.\n",
    "- 4/ Nhóm sử dụng mô hình Mạng nơ ron để giải quyết bài toán này.\n",
    "- 5/ Nhóm sử dụng vài mô hình cổ điển như bayes hoặc K-nn hoặc Kmean để giải quyết bài toán này.\n",
    "\n",
    "### Kết luận trả lời câu hỏi ban đầu đặt ra sẽ nằm ở cuối file này.\n",
    "# Phần code\n",
    "#### Chuẩn bị data"
   ]
  },
  {
   "cell_type": "code",
   "execution_count": 123,
   "metadata": {},
   "outputs": [],
   "source": [
    "# load data sẵn mà ta cần dùng để mô phỏng\n",
    "all_data = read_json(\"filtered/data.json\")[\"data\"]\n",
    "\n",
    "point_data = np.array([item[\"point\"] for item in all_data])\n",
    "sold_data = np.array([item[\"sold_count\"] for item in all_data])\n",
    "discount_data = np.array([item[\"discount_percent\"] for item in all_data])\n",
    "platform_data = np.array([item[\"platform\"] for item in all_data])\n",
    "mall_data = []\n",
    "for item in all_data:\n",
    "    if item[\"mall\"]:\n",
    "        mall_data.append(1)\n",
    "    else:\n",
    "        mall_data.append(0)\n",
    "        \n",
    "mall_data = np.array(mall_data)"
   ]
  },
  {
   "cell_type": "markdown",
   "metadata": {},
   "source": [
    "### Bài toán số 1: %giảm giá  X  số bán được, dự đoán số bán"
   ]
  },
  {
   "cell_type": "code",
   "execution_count": 86,
   "metadata": {},
   "outputs": [
    {
     "name": "stdout",
     "output_type": "stream",
     "text": [
      "số phần tử để test: 327\n",
      "Coefficients:  [-9.89280712]\n",
      "intercept: 2378.570057905246\n",
      "Mean squared error: 27898493.53\n",
      "Coefficient of determination: -0.02\n",
      "score: 0.00039085226634727466\n"
     ]
    },
    {
     "data": {
      "image/png": "[encoded data removed]",
      "text/plain": [
       "<Figure size 432x288 with 1 Axes>"
      ]
     },
     "metadata": {},
     "output_type": "display_data"
    }
   ],
   "source": [
    "# lấy data cần train, phỏng đoán\n",
    "# y là cái ta cần phỏng đoán\n",
    "# bài 1: x là % giảm giá, y là số bán được\n",
    "# luôn lấy 20% đuôi làm test\n",
    "x, y = discount_data.copy(), sold_data.copy()\n",
    "tail = len(x)*20//100\n",
    "x = x.reshape(-1,1)\n",
    "print(\"số phần tử để test:\", tail)\n",
    "\n",
    "# tách data ra thành phần train và phần kiểm tra\n",
    "# lấy tail phần tử cuối cho test, còn lại là train\n",
    "x_train = x[:-tail]\n",
    "x_test = x[-tail:]\n",
    "\n",
    "y_train = y[:-tail]\n",
    "y_test = y[-tail:]\n",
    "\n",
    "# sử dụng modal linear regression từ thư viện sklearn\n",
    "regr = linear_model.LinearRegression()\n",
    "\n",
    "# cho học dữ liệu train đã định sẵn\n",
    "regr.fit(x_train, y_train)\n",
    "\n",
    "# cho phỏng đoán tử từ tập data đã tách ra từ đầu dựa vào X, ta sẽ phỏng đoán Y\n",
    "y_predict = regr.predict(x_test)\n",
    "\n",
    "# các hệ số\n",
    "# coefficients\n",
    "print(\"Coefficients: \", regr.coef_)\n",
    "print(\"intercept:\", regr.intercept_)\n",
    "\n",
    "# tính mean squared error\n",
    "print(\"Mean squared error: %.2f\" % mean_squared_error(y_test, y_predict))\n",
    "\n",
    "# Coefficient of determination\n",
    "print(\"Coefficient of determination: %.2f\" % r2_score(y_test, y_predict))\n",
    "\n",
    "#score\n",
    "print(\"score:\", regr.score(x_train,y_train))\n",
    "\n",
    "# mô phỏng linear lên bằng matplotlib.pyplot\n",
    "plt.scatter(x_test, y_test, color=\"black\")\n",
    "plt.plot(x_test, y_predict, color=\"red\", linewidth=3)\n",
    "\n",
    "plt.xticks(())\n",
    "plt.yticks(())\n",
    "\n",
    "plt.xlabel(\"% giảm giá\")\n",
    "plt.ylabel(\"Số bán được\")\n",
    "\n",
    "plt.show();"
   ]
  },
  {
   "cell_type": "markdown",
   "metadata": {},
   "source": [
    "### Nhận xét\n",
    "- ta thấy rằng có rất nhiều sản phẩm bán <300 và % giảm giá quá ít ảnh hưởng rất mạnh tới dự đoán, nhưng data này chúng nó lại rất nhiều.\n",
    "- ta sẽ thử loại bỏ các điểm có số bán < 300 HOẶC %giảm giá < 20 rồi phỏng đoán lại"
   ]
  },
  {
   "cell_type": "code",
   "execution_count": 87,
   "metadata": {},
   "outputs": [
    {
     "name": "stdout",
     "output_type": "stream",
     "text": [
      "số phần tử để test: 87\n",
      "Coefficients:  [-25.34058483]\n",
      "Mean squared error: 48091013.91\n",
      "Coefficient of determination: -0.01\n",
      "score: 0.0005816299996145302\n"
     ]
    },
    {
     "data": {
      "image/png": "[encoded data removed]",
      "text/plain": [
       "<Figure size 432x288 with 1 Axes>"
      ]
     },
     "metadata": {},
     "output_type": "display_data"
    }
   ],
   "source": [
    "# lấy data cần train, phỏng đoán\n",
    "# y là cái ta cần phỏng đoán\n",
    "# bài 1: x là % giảm giá, y là số bán được\n",
    "x, y = discount_data.copy(), sold_data.copy()\n",
    "new_x, new_y = [],[]\n",
    "for i in range(len(x)):\n",
    "    if x[i] > 20 and y[i] > 300:\n",
    "        new_x.append(x[i])\n",
    "        new_y.append(y[i])\n",
    "x = np.array(new_x)\n",
    "y = np.array(new_y)\n",
    "\n",
    "tail = len(x)*20//100\n",
    "print(\"số phần tử để test:\", tail)\n",
    "x = x.reshape(-1,1)\n",
    "\n",
    "# tách data ra thành phần train và phần kiểm tra\n",
    "# lấy tail phần tử cuối cho test, còn lại là train\n",
    "x_train = x[:-tail]\n",
    "x_test = x[-tail:]\n",
    "\n",
    "y_train = y[:-tail]\n",
    "y_test = y[-tail:]\n",
    "\n",
    "\n",
    "# sử dụng modal linear regression từ thư viện sklearn\n",
    "regr = linear_model.LinearRegression()\n",
    "\n",
    "# cho học dữ liệu train đã định sẵn\n",
    "regr.fit(x_train, y_train)\n",
    "\n",
    "# cho phỏng đoán tử từ tập data đã tách ra từ đầu dựa vào X, ta sẽ phỏng đoán Y\n",
    "y_predict = regr.predict(x_test)\n",
    "\n",
    "# các hệ số\n",
    "# coefficients\n",
    "print(\"Coefficients: \", regr.coef_)\n",
    "\n",
    "# tính mean squared error\n",
    "print(\"Mean squared error: %.2f\" % mean_squared_error(y_test, y_predict))\n",
    "\n",
    "# Coefficient of determination\n",
    "print(\"Coefficient of determination: %.2f\" % r2_score(y_test, y_predict))\n",
    "\n",
    "print(\"score:\", regr.score(x_train,y_train))\n",
    "\n",
    "# mô phỏng linear lên bằng matplotlib.pyplot\n",
    "plt.scatter(x_test, y_test, color=\"black\")\n",
    "plt.plot(x_test, y_predict, color=\"red\", linewidth=3)\n",
    "\n",
    "plt.xticks(())\n",
    "plt.yticks(())\n",
    "\n",
    "plt.xlabel(\"% giảm giá\")\n",
    "plt.ylabel(\"Số bán được\")\n",
    "\n",
    "plt.show();"
   ]
  },
  {
   "cell_type": "markdown",
   "metadata": {},
   "source": [
    "### Nhận xét\n",
    "- ta thấy rõ ràng hơn là chúng tương quan nghịch tuy nhiên còn một vài outlier quá cao, ta sẽ loại bỏ rồi phân tích tiếp.\n",
    "- ta sẽ sử dụng phương pháp Zscore để loại bỏ outlier (bài tự tìm hiểu môn khai thác)\n",
    "- ta sẽ thử lấy data từ trên làm tiếp, loại bỏ outlier rồi phân tích."
   ]
  },
  {
   "cell_type": "code",
   "execution_count": 88,
   "metadata": {},
   "outputs": [
    {
     "name": "stdout",
     "output_type": "stream",
     "text": [
      "số phần tử để test: 84\n",
      "Coefficients:  [17.98332986]\n",
      "Mean squared error: 75407150.77\n",
      "Coefficient of determination: -0.11\n",
      "score: 0.0018726465008461757\n"
     ]
    },
    {
     "data": {
      "image/png": "[encoded data removed]",
      "text/plain": [
       "<Figure size 432x288 with 1 Axes>"
      ]
     },
     "metadata": {},
     "output_type": "display_data"
    }
   ],
   "source": [
    "# lấy data cần train, phỏng đoán\n",
    "# y là cái ta cần phỏng đoán\n",
    "# bài 1: x là % giảm giá, y là số bán được\n",
    "x_mean = np.mean(x)\n",
    "x_std = np.std(x)\n",
    "y_mean = np.mean(y)\n",
    "y_std = np.std(y)\n",
    "\n",
    "threshold = 3\n",
    "\n",
    "# ta sẽ tính Z score xem có vi phạm threshold không trog lúc lọc\n",
    "\n",
    "new_x, new_y = [],[]\n",
    "for i in range(len(x)):\n",
    "    zscore_x = (x[i] - x_mean)/x_std\n",
    "    zscore_y = (y[i] - y_mean)/y_std\n",
    "    if zscore_x <= threshold and zscore_y <= threshold:\n",
    "        new_x.append(x[i])\n",
    "        new_y.append(y[i])\n",
    "x = np.array(new_x)\n",
    "y = np.array(new_y)\n",
    "\n",
    "tail = len(x)*20//100 #20%\n",
    "print(\"số phần tử để test:\", tail)\n",
    "x = x.reshape(-1,1)\n",
    "\n",
    "# tách data ra thành phần train và phần kiểm tra\n",
    "# lấy tail phần tử cuối cho test, còn lại là train\n",
    "x_train = x[:-tail]\n",
    "x_test = x[-tail:]\n",
    "\n",
    "y_train = y[:-tail]\n",
    "y_test = y[-tail:]\n",
    "\n",
    "\n",
    "# sử dụng modal linear regression từ thư viện sklearn\n",
    "regr = linear_model.LinearRegression()\n",
    "\n",
    "# cho học dữ liệu train đã định sẵn\n",
    "regr.fit(x_train, y_train)\n",
    "\n",
    "# cho phỏng đoán tử từ tập data đã tách ra từ đầu dựa vào X, ta sẽ phỏng đoán Y\n",
    "y_predict = regr.predict(x_test)\n",
    "\n",
    "# các hệ số\n",
    "# coefficients\n",
    "print(\"Coefficients: \", regr.coef_)\n",
    "\n",
    "# tính mean squared error\n",
    "print(\"Mean squared error: %.2f\" % mean_squared_error(y_test, y_predict))\n",
    "\n",
    "# Coefficient of determination\n",
    "print(\"Coefficient of determination: %.2f\" % r2_score(y_test, y_predict))\n",
    "\n",
    "print(\"score:\", regr.score(x_train,y_train))\n",
    "\n",
    "# mô phỏng linear lên bằng matplotlib.pyplot\n",
    "plt.scatter(x_test, y_test, color=\"black\")\n",
    "plt.plot(x_test, y_predict, color=\"red\", linewidth=3)\n",
    "\n",
    "plt.xticks(())\n",
    "plt.yticks(())\n",
    "\n",
    "plt.xlabel(\"% giảm giá\")\n",
    "plt.ylabel(\"Số bán được\")\n",
    "\n",
    "plt.show();"
   ]
  },
  {
   "cell_type": "markdown",
   "metadata": {},
   "source": [
    "#### Nhận xét:\n",
    "- Sau khi loại bỏ Outlier từ data mà đã loại bớt các sản phẩm có số bán ít, ta đã được đường outlier giữa %giảm và số bán khá tương quan thuận, đúng với cái mà ta cần tìm ban đầu. Coefficients cũng còn 17, thay vì âm như 2 trường hợp trên."
   ]
  },
  {
   "cell_type": "markdown",
   "metadata": {},
   "source": [
    "### Bài toán số 2: %giảm giá và điểm đánh giá, dự đoán điểm đánh giá\n",
    "- rút kinh nghiệm từ bài 1, bài 2 ta sẽ làm theo gốc và làm theo loại outlier trước từ data gốc rồi phân tích"
   ]
  },
  {
   "cell_type": "code",
   "execution_count": 184,
   "metadata": {},
   "outputs": [
    {
     "name": "stdout",
     "output_type": "stream",
     "text": [
      "số phần tử để test: 327\n",
      "Coefficients:  [-0.00130921]\n",
      "Mean squared error: 0.25\n",
      "Coefficient of determination: -0.05\n",
      "score: 0.00425668878911678\n"
     ]
    },
    {
     "data": {
      "image/png": "[encoded data removed]",
      "text/plain": [
       "<Figure size 432x288 with 1 Axes>"
      ]
     },
     "metadata": {},
     "output_type": "display_data"
    }
   ],
   "source": [
    "# lấy data cần train, phỏng đoán\n",
    "# y là cái ta cần phỏng đoán\n",
    "# bài 2: x là % giảm giá, y là điểm đánh giá\n",
    "x, y = discount_data.copy(), point_data.copy()\n",
    "x_mean = np.mean(x)\n",
    "x_std = np.std(x)\n",
    "y_mean = np.mean(y)\n",
    "y_std = np.std(y)\n",
    "\n",
    "threshold = 3\n",
    "\n",
    "# ta sẽ tính Z score xem có vi phạm threshold không trog lúc lọc\n",
    "\n",
    "new_x, new_y = [],[]\n",
    "for i in range(len(x)):\n",
    "    zscore_x = (x[i] - x_mean)/x_std\n",
    "    zscore_y = (y[i] - y_mean)/y_std\n",
    "    if zscore_x <= threshold and zscore_y <= threshold:\n",
    "        new_x.append(x[i])\n",
    "        new_y.append(y[i])\n",
    "x = np.array(new_x)\n",
    "y = np.array(new_y)\n",
    "\n",
    "tail = len(x)*20//100\n",
    "print(\"số phần tử để test:\", tail)\n",
    "x = x.reshape(-1,1)\n",
    "\n",
    "# tách data ra thành phần train và phần kiểm tra\n",
    "# lấy tail phần tử cuối cho test, còn lại là train\n",
    "x_train = x[:-tail]\n",
    "x_test = x[-tail:]\n",
    "\n",
    "y_train = y[:-tail]\n",
    "y_test = y[-tail:]\n",
    "\n",
    "\n",
    "# sử dụng modal linear regression từ thư viện sklearn\n",
    "regr = linear_model.LinearRegression()\n",
    "\n",
    "# cho học dữ liệu train đã định sẵn\n",
    "regr.fit(x_train, y_train)\n",
    "\n",
    "# cho phỏng đoán tử từ tập data đã tách ra từ đầu dựa vào X, ta sẽ phỏng đoán Y\n",
    "y_predict = regr.predict(x_test)\n",
    "\n",
    "# các hệ số\n",
    "# coefficients\n",
    "print(\"Coefficients: \", regr.coef_)\n",
    "\n",
    "# tính mean squared error\n",
    "print(\"Mean squared error: %.2f\" % mean_squared_error(y_test, y_predict))\n",
    "\n",
    "# Coefficient of determination\n",
    "print(\"Coefficient of determination: %.2f\" % r2_score(y_test, y_predict))\n",
    "\n",
    "print(\"score:\", regr.score(x_train,y_train))\n",
    "\n",
    "# mô phỏng linear lên bằng matplotlib.pyplot\n",
    "plt.scatter(x_test, y_test, color=\"black\")\n",
    "plt.plot(x_test, y_predict, color=\"red\", linewidth=3)\n",
    "\n",
    "plt.xticks(())\n",
    "plt.yticks(())\n",
    "\n",
    "plt.xlabel(\"% giảm giá\")\n",
    "plt.ylabel(\"Điểm đánh giá\")\n",
    "\n",
    "plt.show();"
   ]
  },
  {
   "cell_type": "markdown",
   "metadata": {},
   "source": [
    "##### Thử không loại bỏ outlier"
   ]
  },
  {
   "cell_type": "code",
   "execution_count": 183,
   "metadata": {},
   "outputs": [
    {
     "name": "stdout",
     "output_type": "stream",
     "text": [
      "số phần tử để test: 327\n",
      "Coefficients:  [-0.00130921]\n",
      "Mean squared error: 0.25\n",
      "Coefficient of determination: -0.05\n",
      "score: 0.004256688789116891\n"
     ]
    },
    {
     "data": {
      "image/png": "[encoded data removed]",
      "text/plain": [
       "<Figure size 432x288 with 1 Axes>"
      ]
     },
     "metadata": {},
     "output_type": "display_data"
    }
   ],
   "source": [
    "# lấy data cần train, phỏng đoán\n",
    "# y là cái ta cần phỏng đoán\n",
    "# bài 2: x là % giảm giá, y là điểm đánh giá\n",
    "x, y = discount_data.copy(), point_data.copy()\n",
    "\n",
    "tail = len(x)*20//100\n",
    "print(\"số phần tử để test:\", tail)\n",
    "x = x.reshape(-1,1)\n",
    "\n",
    "# tách data ra thành phần train và phần kiểm tra\n",
    "# lấy tail phần tử cuối cho test, còn lại là train\n",
    "x_train = x[:-tail]\n",
    "x_test = x[-tail:]\n",
    "\n",
    "y_train = y[:-tail]\n",
    "y_test = y[-tail:]\n",
    "\n",
    "\n",
    "# sử dụng modal linear regression từ thư viện sklearn\n",
    "regr = linear_model.LinearRegression()\n",
    "\n",
    "# cho học dữ liệu train đã định sẵn\n",
    "regr.fit(x_train, y_train)\n",
    "\n",
    "# cho phỏng đoán tử từ tập data đã tách ra từ đầu dựa vào X, ta sẽ phỏng đoán Y\n",
    "y_predict = regr.predict(x_test)\n",
    "\n",
    "# các hệ số\n",
    "# coefficients\n",
    "print(\"Coefficients: \", regr.coef_)\n",
    "\n",
    "# tính mean squared error\n",
    "print(\"Mean squared error: %.2f\" % mean_squared_error(y_test, y_predict))\n",
    "\n",
    "# Coefficient of determination\n",
    "print(\"Coefficient of determination: %.2f\" % r2_score(y_test, y_predict))\n",
    "\n",
    "print(\"score:\", regr.score(x_train,y_train))\n",
    "\n",
    "# mô phỏng linear lên bằng matplotlib.pyplot\n",
    "plt.scatter(x_test, y_test, color=\"black\")\n",
    "plt.plot(x_test, y_predict, color=\"red\", linewidth=3)\n",
    "\n",
    "plt.xticks(())\n",
    "plt.yticks(())\n",
    "\n",
    "plt.xlabel(\"% giảm giá\")\n",
    "plt.ylabel(\"Điểm đánh giá\")\n",
    "\n",
    "plt.show();"
   ]
  },
  {
   "cell_type": "markdown",
   "metadata": {},
   "source": [
    "#### Nhận xét\n",
    "- khi loại bỏ outlier hay không, ta cũng không thể phũ nhận được rằng chúng tương quan nghịch (xét ở data của nhóm thu thập)\n",
    "- so với thực tế, có lẻ tạm coi chưa trả lời được câu hỏi đặt ra, so với bài 1 thì ta trả lời được\n",
    "- Mean squared error cho ra thấp hơn so với bài 1"
   ]
  },
  {
   "cell_type": "markdown",
   "metadata": {},
   "source": [
    "### Bài toán số 3: Điểm đánh giá và số bán ra, dự đoán số bán ra"
   ]
  },
  {
   "cell_type": "markdown",
   "metadata": {},
   "source": [
    "#### linear, không loại bỏ outlier"
   ]
  },
  {
   "cell_type": "code",
   "execution_count": 185,
   "metadata": {},
   "outputs": [
    {
     "name": "stdout",
     "output_type": "stream",
     "text": [
      "số phần tử để test: 327\n",
      "Coefficients:  [2114.15369377]\n",
      "Mean squared error: 26536265.76\n",
      "Coefficient of determination: 0.03\n",
      "score: 0.007187753276994724\n"
     ]
    },
    {
     "data": {
      "image/png": "[encoded data removed]",
      "text/plain": [
       "<Figure size 432x288 with 1 Axes>"
      ]
     },
     "metadata": {},
     "output_type": "display_data"
    }
   ],
   "source": [
    "# lấy data cần train, phỏng đoán\n",
    "# y là cái ta cần phỏng đoán\n",
    "# bài 3: x là điểm dánh giá, y là số bán ra\n",
    "x, y = point_data.copy(), sold_data.copy()\n",
    "\n",
    "tail = len(x)*20//100\n",
    "print(\"số phần tử để test:\", tail)\n",
    "x = x.reshape(-1,1)\n",
    "\n",
    "# tách data ra thành phần train và phần kiểm tra\n",
    "# lấy tail phần tử cuối cho test, còn lại là train\n",
    "x_train = x[:-tail]\n",
    "x_test = x[-tail:]\n",
    "\n",
    "y_train = y[:-tail]\n",
    "y_test = y[-tail:]\n",
    "\n",
    "\n",
    "# sử dụng modal linear regression từ thư viện sklearn\n",
    "regr = linear_model.LinearRegression()\n",
    "\n",
    "# cho học dữ liệu train đã định sẵn\n",
    "regr.fit(x_train, y_train)\n",
    "\n",
    "# cho phỏng đoán tử từ tập data đã tách ra từ đầu dựa vào X, ta sẽ phỏng đoán Y\n",
    "y_predict = regr.predict(x_test)\n",
    "\n",
    "# các hệ số\n",
    "# coefficients\n",
    "print(\"Coefficients: \", regr.coef_)\n",
    "\n",
    "# tính mean squared error\n",
    "print(\"Mean squared error: %.2f\" % mean_squared_error(y_test, y_predict))\n",
    "\n",
    "# Coefficient of determination\n",
    "print(\"Coefficient of determination: %.2f\" % r2_score(y_test, y_predict))\n",
    "\n",
    "print(\"score:\", regr.score(x_train,y_train))\n",
    "\n",
    "# mô phỏng linear lên bằng matplotlib.pyplot\n",
    "plt.scatter(x_test, y_test, color=\"black\")\n",
    "plt.plot(x_test, y_predict, color=\"red\", linewidth=3)\n",
    "\n",
    "plt.xticks(())\n",
    "plt.yticks(())\n",
    "\n",
    "plt.xlabel(\"Điểm đánh giá\")\n",
    "plt.ylabel(\"Bán ra\")\n",
    "\n",
    "plt.show();"
   ]
  },
  {
   "cell_type": "markdown",
   "metadata": {},
   "source": [
    "### linear, loại bỏ outlier"
   ]
  },
  {
   "cell_type": "code",
   "execution_count": 186,
   "metadata": {},
   "outputs": [
    {
     "name": "stdout",
     "output_type": "stream",
     "text": [
      "số phần tử để test: 33\n",
      "Coefficients:  [0.13365839]\n",
      "Mean squared error: 3.32\n",
      "Coefficient of determination: -0.03\n",
      "score: 0.004751233883811268\n"
     ]
    },
    {
     "data": {
      "image/png": "[encoded data removed]",
      "text/plain": [
       "<Figure size 432x288 with 1 Axes>"
      ]
     },
     "metadata": {},
     "output_type": "display_data"
    }
   ],
   "source": [
    "# lấy data cần train, phỏng đoán\n",
    "# y là cái ta cần phỏng đoán\n",
    "# bài 3: x là điểm dánh giá, y là số bán ra\n",
    "x, y = point_data.copy(), sold_data.copy()\n",
    "\n",
    "threshold = 3\n",
    "\n",
    "# ta sẽ tính Z score xem có vi phạm threshold không trog lúc lọc\n",
    "\n",
    "new_x, new_y = [],[]\n",
    "for i in range(len(x)):\n",
    "    zscore_x = (x[i] - x_mean)/x_std\n",
    "    zscore_y = (y[i] - y_mean)/y_std\n",
    "    if zscore_x <= threshold and zscore_y <= threshold:\n",
    "        new_x.append(x[i])\n",
    "        new_y.append(y[i])\n",
    "x = np.array(new_x)\n",
    "y = np.array(new_y)\n",
    "\n",
    "tail = len(x)*20//100\n",
    "print(\"số phần tử để test:\", tail)\n",
    "x = x.reshape(-1,1)\n",
    "\n",
    "# tách data ra thành phần train và phần kiểm tra\n",
    "# lấy tail phần tử cuối cho test, còn lại là train\n",
    "x_train = x[:-tail]\n",
    "x_test = x[-tail:]\n",
    "\n",
    "y_train = y[:-tail]\n",
    "y_test = y[-tail:]\n",
    "\n",
    "\n",
    "# sử dụng modal linear regression từ thư viện sklearn\n",
    "regr = linear_model.LinearRegression()\n",
    "\n",
    "# cho học dữ liệu train đã định sẵn\n",
    "regr.fit(x_train, y_train)\n",
    "\n",
    "# cho phỏng đoán tử từ tập data đã tách ra từ đầu dựa vào X, ta sẽ phỏng đoán Y\n",
    "y_predict = regr.predict(x_test)\n",
    "\n",
    "# các hệ số\n",
    "# coefficients\n",
    "print(\"Coefficients: \", regr.coef_)\n",
    "\n",
    "# tính mean squared error\n",
    "print(\"Mean squared error: %.2f\" % mean_squared_error(y_test, y_predict))\n",
    "\n",
    "# Coefficient of determination\n",
    "print(\"Coefficient of determination: %.2f\" % r2_score(y_test, y_predict))\n",
    "\n",
    "print(\"score:\", regr.score(x_train,y_train))\n",
    "\n",
    "# mô phỏng linear lên bằng matplotlib.pyplot\n",
    "plt.scatter(x_test, y_test, color=\"black\")\n",
    "plt.plot(x_test, y_predict, color=\"red\", linewidth=3)\n",
    "\n",
    "plt.xticks(())\n",
    "plt.yticks(())\n",
    "\n",
    "plt.xlabel(\"Điểm đánh giá\")\n",
    "plt.ylabel(\"Bán ra\")\n",
    "\n",
    "plt.show();"
   ]
  },
  {
   "cell_type": "markdown",
   "metadata": {},
   "source": [
    "#### Nhận xét\n",
    "- Khi thử với mô hình Linear, dù loại bỏ outlier hay không, ta nhận xét rằng 2 data này có tương quan thuận với nhau.\n",
    "- đáp ứng được bài toán ban đầu ta đặt ra và mong đợi."
   ]
  },
  {
   "cell_type": "markdown",
   "metadata": {},
   "source": [
    "### Bài toán số 4: Dựa vào đánh giá và số lượng bán được, dự đoán xem đó có phải shop mall hay không"
   ]
  },
  {
   "cell_type": "code",
   "execution_count": 171,
   "metadata": {},
   "outputs": [],
   "source": [
    "x = []\n",
    "for i in range(len(point_data)):\n",
    "    x.append([point_data[i], sold_data[i]])\n",
    "y = mall_data.copy()"
   ]
  },
  {
   "cell_type": "code",
   "execution_count": 172,
   "metadata": {},
   "outputs": [
    {
     "name": "stdout",
     "output_type": "stream",
     "text": [
      "độ lỗi tập train, 2 lớp 3 noron\n",
      "0.4251908396946565\n",
      "độ lỗi tập test, 2 lớp 3 noron\n"
     ]
    },
    {
     "data": {
      "text/plain": [
       "0.43597560975609756"
      ]
     },
     "execution_count": 172,
     "metadata": {},
     "output_type": "execute_result"
    }
   ],
   "source": [
    "train_x, test_x, train_y, test_y = train_test_split(x,y, test_size=0.2, random_state=0, stratify=y)\n",
    "\n",
    "# 2 tầng ,mỗi tầng ảnh 3 noron, hàm giải là tanh, bộ tối ưu sử dụng lbfgs, số vòng lập tối đa là 100000\n",
    "neural_net_model = MLPClassifier(hidden_layer_sizes=(3,3,), activation=\"tanh\", solver=\"lbfgs\", max_iter=100000, random_state=0)\n",
    "\n",
    "#train\n",
    "neural_net_model.fit(train_x, train_y)\n",
    "\n",
    "# độ lỗi trên train\n",
    "print(\"độ lỗi tập train, 2 lớp 3 noron\")\n",
    "print(np.mean(train_y != neural_net_model.predict(train_x)))\n",
    "\n",
    "# độ lỗi ngoài tập huấn luyện\n",
    "print(\"độ lỗi tập test, 2 lớp 3 noron\")\n",
    "np.mean(test_y != neural_net_model.predict(test_x))"
   ]
  },
  {
   "cell_type": "code",
   "execution_count": 173,
   "metadata": {},
   "outputs": [
    {
     "name": "stdout",
     "output_type": "stream",
     "text": [
      "độ lỗi train, 2 lớp 9 noron\n",
      "0.4068702290076336\n",
      "độ lỗi test, 2 lớp 9 noron\n"
     ]
    },
    {
     "data": {
      "text/plain": [
       "0.42378048780487804"
      ]
     },
     "execution_count": 173,
     "metadata": {},
     "output_type": "execute_result"
    }
   ],
   "source": [
    "train_x, test_x, train_y, test_y = train_test_split(x,y, test_size=0.2, random_state=0, stratify=y)\n",
    "\n",
    "# 2 tầng ,mỗi tầng ảnh 9 noron, hàm giải là tanh, bộ tối ưu sử dụng lbfgs, số vòng lập là 1000\n",
    "neural_net_model = MLPClassifier(hidden_layer_sizes=(9,9), activation=\"tanh\", solver=\"lbfgs\", max_iter=10000, random_state=0)\n",
    "\n",
    "#train\n",
    "neural_net_model.fit(train_x, train_y)\n",
    "\n",
    "# độ lỗi trên train\n",
    "print(\"độ lỗi train, 2 lớp 9 noron\")\n",
    "print(np.mean(train_y != neural_net_model.predict(train_x)))\n",
    "\n",
    "# độ lỗi ngoài tập huấn luyện\n",
    "print(\"độ lỗi test, 2 lớp 9 noron\")\n",
    "np.mean(test_y != neural_net_model.predict(test_x))"
   ]
  },
  {
   "cell_type": "code",
   "execution_count": 174,
   "metadata": {},
   "outputs": [
    {
     "name": "stdout",
     "output_type": "stream",
     "text": [
      "độ lỗi train, 3 lớp 6 noron\n",
      "0.41908396946564885\n",
      "độ lỗi test, 3 lớp 6 noron\n"
     ]
    },
    {
     "data": {
      "text/plain": [
       "0.4176829268292683"
      ]
     },
     "execution_count": 174,
     "metadata": {},
     "output_type": "execute_result"
    }
   ],
   "source": [
    "train_x, test_x, train_y, test_y = train_test_split(x,y, test_size=0.2, random_state=0, stratify=y)\n",
    "\n",
    "# hàm giải là tanh, bộ tối ưu sử dụng lbfgs, số vòng lập là 10000\n",
    "neural_net_model = MLPClassifier(hidden_layer_sizes=(6,6,6,), activation=\"tanh\", solver=\"lbfgs\", max_iter=10000, random_state=0)\n",
    "\n",
    "#train\n",
    "neural_net_model.fit(train_x, train_y)\n",
    "\n",
    "# độ lỗi trên train\n",
    "print(\"độ lỗi train, 3 lớp 6 noron\")\n",
    "print(np.mean(train_y != neural_net_model.predict(train_x)))\n",
    "\n",
    "# độ lỗi ngoài tập huấn luyện\n",
    "print(\"độ lỗi test, 3 lớp 6 noron\")\n",
    "np.mean(test_y != neural_net_model.predict(test_x))"
   ]
  },
  {
   "cell_type": "code",
   "execution_count": 175,
   "metadata": {},
   "outputs": [
    {
     "name": "stdout",
     "output_type": "stream",
     "text": [
      "độ lỗi train, 3 lớp 9 noron\n",
      "0.4198473282442748\n",
      "độ lỗi test, 3 lớp 9 noron\n"
     ]
    },
    {
     "data": {
      "text/plain": [
       "0.4146341463414634"
      ]
     },
     "execution_count": 175,
     "metadata": {},
     "output_type": "execute_result"
    }
   ],
   "source": [
    "train_x, test_x, train_y, test_y = train_test_split(x,y, test_size=0.2, random_state=0, stratify=y)\n",
    "\n",
    "# hàm giải là tanh, bộ tối ưu sử dụng lbfgs, số vòng lập là 10000\n",
    "neural_net_model = MLPClassifier(hidden_layer_sizes=(9,9,9,), activation=\"tanh\", solver=\"lbfgs\", max_iter=10000, random_state=0)\n",
    "\n",
    "#train\n",
    "neural_net_model.fit(train_x, train_y)\n",
    "\n",
    "# độ lỗi trên train\n",
    "print(\"độ lỗi train, 3 lớp 9 noron\")\n",
    "print(np.mean(train_y != neural_net_model.predict(train_x)))\n",
    "\n",
    "# độ lỗi ngoài tập huấn luyện\n",
    "print(\"độ lỗi test, 3 lớp 9 noron\")\n",
    "np.mean(test_y != neural_net_model.predict(test_x))"
   ]
  },
  {
   "cell_type": "code",
   "execution_count": 176,
   "metadata": {},
   "outputs": [
    {
     "name": "stdout",
     "output_type": "stream",
     "text": [
      "độ lỗi train, 4 lớp 6 noron\n",
      "0.38625954198473283\n",
      "độ lỗi test, 4 lớp 6 noron\n"
     ]
    },
    {
     "data": {
      "text/plain": [
       "0.4268292682926829"
      ]
     },
     "execution_count": 176,
     "metadata": {},
     "output_type": "execute_result"
    }
   ],
   "source": [
    "train_x, test_x, train_y, test_y = train_test_split(x,y, test_size=0.2, random_state=0, stratify=y)\n",
    "\n",
    "# hàm giải là tanh, bộ tối ưu sử dụng lbfgs, số vòng lập là 10000\n",
    "neural_net_model = MLPClassifier(hidden_layer_sizes=(6,6,6,6,), activation=\"tanh\", solver=\"lbfgs\", max_iter=10000, random_state=0)\n",
    "\n",
    "#train\n",
    "neural_net_model.fit(train_x, train_y)\n",
    "\n",
    "# độ lỗi trên train\n",
    "print(\"độ lỗi train, 4 lớp 6 noron\")\n",
    "print(np.mean(train_y != neural_net_model.predict(train_x)))\n",
    "\n",
    "# độ lỗi ngoài tập huấn luyện\n",
    "print(\"độ lỗi test, 4 lớp 6 noron\")\n",
    "np.mean(test_y != neural_net_model.predict(test_x))"
   ]
  },
  {
   "cell_type": "markdown",
   "metadata": {},
   "source": [
    "### Bài toán số 5: Sử dụng Knn, dựa vào điểm đánh giá và số bán được, dự đoán nền tảng shopee hoặc tiki"
   ]
  },
  {
   "cell_type": "code",
   "execution_count": 177,
   "metadata": {},
   "outputs": [
    {
     "name": "stdout",
     "output_type": "stream",
     "text": [
      "độ lỗi train\n",
      "0.15725190839694655\n",
      "độ lỗi test\n"
     ]
    },
    {
     "data": {
      "text/plain": [
       "0.3079268292682927"
      ]
     },
     "execution_count": 177,
     "metadata": {},
     "output_type": "execute_result"
    }
   ],
   "source": [
    "# x sẽ dùng data được tạo ở đầu bài neural\n",
    "y = platform_data.copy()\n",
    "train_x, test_x, train_y, test_y = train_test_split(x,y, test_size=0.2, random_state=0, stratify=y)\n",
    "\n",
    "neigh = KNeighborsClassifier(n_neighbors=3)\n",
    "neigh.fit(train_x, train_y)\n",
    "\n",
    "print(\"KNN với k = 3\")\n",
    "# độ lỗi trên train\n",
    "print(\"độ lỗi train\")\n",
    "print(np.mean(train_y != neigh.predict(train_x)))\n",
    "\n",
    "# độ lỗi ngoài tập huấn luyện\n",
    "print(\"độ lỗi test\")\n",
    "np.mean(test_y != neigh.predict(test_x))"
   ]
  },
  {
   "cell_type": "code",
   "execution_count": 179,
   "metadata": {},
   "outputs": [
    {
     "name": "stdout",
     "output_type": "stream",
     "text": [
      "KNN với k = 7\n",
      "độ lỗi train\n",
      "0.22595419847328244\n",
      "độ lỗi test\n"
     ]
    },
    {
     "data": {
      "text/plain": [
       "0.2682926829268293"
      ]
     },
     "execution_count": 179,
     "metadata": {},
     "output_type": "execute_result"
    }
   ],
   "source": [
    "\n",
    "neigh = KNeighborsClassifier(n_neighbors=7)\n",
    "neigh.fit(train_x, train_y)\n",
    "\n",
    "print(\"KNN với k = 7\")\n",
    "# độ lỗi trên train\n",
    "print(\"độ lỗi train\")\n",
    "print(np.mean(train_y != neigh.predict(train_x)))\n",
    "\n",
    "# độ lỗi ngoài tập huấn luyện\n",
    "print(\"độ lỗi test\")\n",
    "np.mean(test_y != neigh.predict(test_x))"
   ]
  },
  {
   "cell_type": "code",
   "execution_count": 181,
   "metadata": {},
   "outputs": [
    {
     "name": "stdout",
     "output_type": "stream",
     "text": [
      "KNN với k = 15\n",
      "độ lỗi train\n",
      "0.25190839694656486\n",
      "độ lỗi test\n"
     ]
    },
    {
     "data": {
      "text/plain": [
       "0.24085365853658536"
      ]
     },
     "execution_count": 181,
     "metadata": {},
     "output_type": "execute_result"
    }
   ],
   "source": [
    "\n",
    "neigh = KNeighborsClassifier(n_neighbors=15)\n",
    "neigh.fit(train_x, train_y)\n",
    "\n",
    "print(\"KNN với k = 15\")\n",
    "# độ lỗi trên train\n",
    "print(\"độ lỗi train\")\n",
    "print(np.mean(train_y != neigh.predict(train_x)))\n",
    "\n",
    "# độ lỗi ngoài tập huấn luyện\n",
    "print(\"độ lỗi test\")\n",
    "np.mean(test_y != neigh.predict(test_x))"
   ]
  },
  {
   "cell_type": "code",
   "execution_count": 182,
   "metadata": {},
   "outputs": [
    {
     "name": "stdout",
     "output_type": "stream",
     "text": [
      "KNN với k = 21\n",
      "độ lỗi train\n",
      "0.2587786259541985\n",
      "độ lỗi test\n"
     ]
    },
    {
     "data": {
      "text/plain": [
       "0.24390243902439024"
      ]
     },
     "execution_count": 182,
     "metadata": {},
     "output_type": "execute_result"
    }
   ],
   "source": [
    "\n",
    "neigh = KNeighborsClassifier(n_neighbors=21)\n",
    "neigh.fit(train_x, train_y)\n",
    "\n",
    "print(\"KNN với k = 21\")\n",
    "# độ lỗi trên train\n",
    "print(\"độ lỗi train\")\n",
    "print(np.mean(train_y != neigh.predict(train_x)))\n",
    "\n",
    "# độ lỗi ngoài tập huấn luyện\n",
    "print(\"độ lỗi test\")\n",
    "np.mean(test_y != neigh.predict(test_x))"
   ]
  },
  {
   "cell_type": "code",
   "execution_count": null,
   "metadata": {},
   "outputs": [],
   "source": []
  }
 ],
 "metadata": {
  "kernelspec": {
   "display_name": "Python 3",
   "language": "python",
   "name": "python3"
  },
  "language_info": {
   "codemirror_mode": {
    "name": "ipython",
    "version": 3
   },
   "file_extension": ".py",
   "mimetype": "text/x-python",
   "name": "python",
   "nbconvert_exporter": "python",
   "pygments_lexer": "ipython3",
   "version": "3.8.5"
  }
 },
 "nbformat": 4,
 "nbformat_minor": 4
}
